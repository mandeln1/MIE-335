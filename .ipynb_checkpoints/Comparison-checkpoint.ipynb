{
 "cells": [
  {
   "cell_type": "code",
   "execution_count": 1,
   "metadata": {},
   "outputs": [],
   "source": [
    "import numpy as np\n",
    "import time as time\n",
    "import matplotlib.pyplot as plt\n",
    "import math\n",
    "import itertools\n",
    "import gurobipy as gp \n",
    "from gurobipy import GRB\n",
    "import numpy as np\n"
   ]
  },
  {
   "cell_type": "code",
   "execution_count": 2,
   "metadata": {},
   "outputs": [],
   "source": [
    "def rectangularSMART(c,a,b):\n",
    "    \n",
    "    numRect = 1\n",
    "    found = []\n",
    "    \n",
    "    m = gp.Model(\"Rectangular Method\")\n",
    "    \n",
    "    n = a.shape[0]\n",
    "    cons = b.shape[0]\n",
    "    \n",
    "\n",
    "    Items=list(np.arange(n))\n",
    "    Dimensions= list(np.arange(cons))\n",
    "    # Decision Vars\n",
    "    x = m.addVars(n,vtype=GRB.BINARY, name=\"ToTakeOrNotToTake\")\n",
    "\n",
    "    #Mute Output Text\n",
    "    m.Params.OutputFlag = 0\n",
    "\n",
    "\n",
    "    #Knapsack Constraints\n",
    "    for j in Dimensions:\n",
    "        m.addConstr(gp.quicksum(x[i]*a[i,j] for i in Items) <= b[j], name=\"j\"+str(j))\n",
    "\n",
    "    #NW \n",
    "    m.setObjective(gp.quicksum(x[i]*c[0,i] for i in Items), GRB.MINIMIZE)\n",
    "    m.optimize()\n",
    "    if m.status != 2:\n",
    "        return [],1\n",
    "    lexConstraint = round(m.objVal)\n",
    "    m.setObjective(gp.quicksum(x[i]*c[1,i] for i in Items), GRB.MINIMIZE)\n",
    "    m.addConstr(gp.quicksum(x[i]*c[0,i] for i in Items) <= lexConstraint, name = 'temp')\n",
    "    m.optimize()\n",
    "    hold = round(m.objVal)\n",
    "    NW = (lexConstraint,hold)\n",
    "    \n",
    "    #SE \n",
    "    old = m.getConstrByName('temp')\n",
    "    m.remove(old)\n",
    "    m.setObjective(gp.quicksum(x[i]*c[1,i] for i in Items), GRB.MINIMIZE)\n",
    "    m.optimize()\n",
    "    lexConstraint = round(m.objVal)\n",
    "    m.setObjective(gp.quicksum(x[i]*c[0,i] for i in Items), GRB.MINIMIZE)\n",
    "    m.addConstr(gp.quicksum(x[i]*c[1,i] for i in Items) <= lexConstraint, name = 'temp')\n",
    "    m.optimize()\n",
    "    hold = round(m.objVal)\n",
    "    SE = (hold, lexConstraint)\n",
    "    \n",
    "    old = m.getConstrByName('temp')\n",
    "    m.remove(old)\n",
    "    \n",
    "    rectangles = [[NW,SE]]\n",
    "    \n",
    "    found.append(list(NW))\n",
    "    if NW == SE:\n",
    "        return found, numRect\n",
    "    found.append(list(SE))\n",
    "    \n",
    "    #points in () , tuples\n",
    "    #rectangles 2D lists of points \n",
    "    #5\n",
    "    while len(rectangles) != 0:\n",
    "        #6&7\n",
    "        R = rectangles.pop(0)\n",
    "        if R[1][0] - R[0][0] == 1:\n",
    "            continue\n",
    "        if R[0][1] - R[1][1] == 1:\n",
    "            continue\n",
    "        #8\n",
    "        R2 = [(R[0][0] , (R[0][1]+R[1][1])/2.0), R[1] ] \n",
    "        \n",
    "        \n",
    "        #lexmin(z1,z2) MAKE SURE IN R2 (going left)\n",
    "        m.addConstr(gp.quicksum(x[i]*c[1,i] for i in Items) <= R2[0][1], name = 'top bound')\n",
    "        \n",
    "        m.setObjective(gp.quicksum(x[i]*c[0,i] for i in Items), GRB.MINIMIZE)\n",
    "        m.optimize()\n",
    "        \n",
    "        z1 = round(m.objVal)\n",
    "        m.setObjective(gp.quicksum(x[i]*c[1,i] for i in Items), GRB.MINIMIZE)\n",
    "        m.addConstr(gp.quicksum(x[i]*c[0,i] for i in Items) <= z1, name = 'temp')\n",
    "        m.optimize()\n",
    "        hold = round(m.objVal)\n",
    "        old = m.getConstrByName('temp')\n",
    "        m.remove(old)\n",
    "        old = m.getConstrByName('top bound')\n",
    "        m.remove(old)\n",
    "        #9\n",
    "        tempNW = (z1,hold) \n",
    "        #10/11/12\n",
    "        if tempNW != R[1]:\n",
    "            found.append(list(tempNW))\n",
    "            rectangles.append([tempNW, R[1]])\n",
    "        #13  \n",
    "        R3 = [R[0],      (tempNW[0] - 1, ((R[0][1] + R[1][1])/2.0) + .001)]\n",
    "        \n",
    "               \n",
    "               \n",
    "        #lexmin(z2,z1) = z_opt    \n",
    "        m.setObjective(gp.quicksum(x[i]*c[1,i] for i in Items), GRB.MINIMIZE)\n",
    "        m.addConstr(gp.quicksum(x[i]*c[0,i] for i in Items) <= R3[1][0], name = 'right bound')\n",
    "        #m.addConstr(gp.quicksum(x[i]*c[1,i] for i in Items) >= R3[1][1], name = 'bottom bound')\n",
    "        \n",
    "        m.optimize()\n",
    "        \n",
    "        z1=round(m.objVal)\n",
    "        \n",
    "        m.setObjective(gp.quicksum(x[i]*c[0,i] for i in Items), GRB.MINIMIZE)\n",
    "        m.addConstr(gp.quicksum(x[i]*c[1,i] for i in Items) <= z1, name = 'temp')\n",
    "        m.optimize()\n",
    "        hold = round(m.objVal)\n",
    "        old = m.getConstrByName('temp')\n",
    "        m.remove(old)\n",
    "        old = m.getConstrByName('right bound')\n",
    "        m.remove(old)\n",
    "        #old = m.getConstrByName('bottom bound')\n",
    "        #m.remove(old)\n",
    "        \n",
    "        #14\n",
    "        tempSE = (hold,z1)\n",
    "        if tempSE != R[0]:\n",
    "            found.append(list(tempSE))\n",
    "            rectangles.append([R[0],tempSE])\n",
    "        numRect += 2\n",
    "    return found, numRect"
   ]
  },
  {
   "cell_type": "code",
   "execution_count": 96,
   "metadata": {},
   "outputs": [],
   "source": [
    "def SupernalEff(c,a,b):\n",
    "        \n",
    "    n = len(c[0])\n",
    "    \n",
    "    NDF = []\n",
    "    \n",
    "    temp_a = []\n",
    "    for i in range(n):\n",
    "        temp = []\n",
    "        for j in range(len(a)):\n",
    "            temp.append(a[j][i])\n",
    "        temp_a.append(temp)\n",
    "            \n",
    "    c_orig = c.copy()\n",
    "    J = len(c)\n",
    "    temp_c = [item for sublist in c for item in sublist]\n",
    "    c = np.array(temp_c)\n",
    "    a = np.array(temp_a)\n",
    "    b = np.array(b)\n",
    "    \n",
    "    cons = len(a[0])\n",
    "    \n",
    "    if J == 2:\n",
    "        supernal = [0,0]\n",
    "    \n",
    "    elif J == 3:\n",
    "        supernal = [0,0,0]\n",
    "        \n",
    "    regions1 = [supernal]\n",
    "    regions2 = []\n",
    "    \n",
    "    m = gp.Model(\"Supernal Method\")\n",
    "    \n",
    "    Items=list(np.arange(0,n))\n",
    "    Dimensions= list(np.arange(0,cons))\n",
    "\n",
    "    # Decision Vars\n",
    "    x = m.addVars(n,vtype=GRB.BINARY, name=\"ToTakeOrNotToTake\")\n",
    "    \n",
    "    #Mute Output Text\n",
    "    m.Params.OutputFlag = 0\n",
    "        \n",
    "    \n",
    "    #Knapsack Constraints\n",
    "    for j in Dimensions:\n",
    "        m.addConstr(gp.quicksum(x[i]*a[i,j] for i in Items) <= b[j], name=\"j\"+str(j))\n",
    "        \n",
    "    #Initital Supernal Region\n",
    "    num_regions = 1\n",
    "    m.addConstr(gp.quicksum(x[i]*c[i] for i in Items) <= 0, name = \"z1\")\n",
    "    m.addConstr(gp.quicksum(x[i]*c[i+n] for i in Items) <= 0, name = \"z2\")\n",
    "    \n",
    "    \n",
    "    if J == 3:\n",
    "        l = [0.33,0.33,0.34]\n",
    "        m.setObjective((gp.quicksum(x[i]*c[i] for i in Items)*l[0] + gp.quicksum(x[i]*c[i+n] for i in Items)*l[1] + gp.quicksum(x[i]*c[i+n*2] for i in Items)*l[2]), GRB.MINIMIZE)\n",
    "        m.addConstr(gp.quicksum(x[i]*c[i+2*n] for i in Items) <= 0, name = \"z3\")\n",
    "    \n",
    "    elif J ==2:\n",
    "        l = [0.3,0.7]\n",
    "        m.setObjective((gp.quicksum(x[i]*c[i] for i in Items)*l[0] + gp.quicksum(x[i]*c[i+n] for i in Items)*l[1]), GRB.MINIMIZE)\n",
    "\n",
    "    m.optimize()\n",
    "    \n",
    "    #Remove Denominated Regions for J = 3\n",
    "    def deleteDominated(reg):\n",
    "        nondom = reg.copy()\n",
    "        for i in range(len(reg)):\n",
    "            for j in range(len(reg)): \n",
    "    \n",
    "                if i == j:\n",
    "                    continue\n",
    "    \n",
    "                if reg[i][0]<= reg[j][0]:\n",
    "                    if reg[i][1] <= reg[j][1]:\n",
    "                        if reg[i][2] <= reg[j][2]:    \n",
    "                            nondom.remove(reg[i])\n",
    "                            break\n",
    "        return nondom\n",
    "    \n",
    "    \n",
    "    def optimize(region):\n",
    "        \n",
    "        m.getConstrByName('z1').RHS = region[0]\n",
    "        m.getConstrByName('z2').RHS = region[1]\n",
    "        \n",
    "        if J == 3:\n",
    "            m.getConstrByName('z3').RHS = region[2]\n",
    "        \n",
    "        m.optimize()\n",
    "        \n",
    "        Mat = np.zeros((1,n))\n",
    "        i = 0\n",
    "        j = 0\n",
    "        \n",
    "        try:\n",
    "            for p in x:\n",
    "                if j == Mat.shape[1]:\n",
    "                    j = 0\n",
    "                    i += 1\n",
    "                Mat[i,j] = abs(x[p].x)\n",
    "                j+=1\n",
    "            \n",
    "            z = []\n",
    "            for i in range(J):\n",
    "                z_temp = 0\n",
    "                for j in range(n):\n",
    "                    z_temp += c_orig[i][j]*Mat[0][j]\n",
    "                z.append(z_temp)\n",
    "            \n",
    "            if z not in NDF:\n",
    "                NDF.append(z)\n",
    "            \n",
    "            \n",
    "            if J == 2:\n",
    "    \n",
    "                regions2.append([z[0]-1,region[1]])\n",
    "                regions2.append([region[0],z[1]-1])        \n",
    "                \n",
    "            if J == 3:\n",
    "                \n",
    "                regions2.append([z[0]-1,region[1],region[2]])\n",
    "                regions2.append([region[0],z[1]-1,region[2]])\n",
    "                regions2.append([region[0],region[1],z[2]-1])                     \n",
    "                \n",
    "            return None\n",
    "            \n",
    "        except: \n",
    "            return None\n",
    "        \n",
    "    \n",
    "    #While there are new regions to be processed in the next layer, continue\n",
    "    while len(regions1) > 0:\n",
    "        \n",
    "        #iterate through all regions to be processed in current layer\n",
    "        for r in range(len(regions1)):\n",
    "            optimize(regions1[r])\n",
    "        \n",
    "        \n",
    "        if J == 2:\n",
    "            regions1 = regions2.copy()\n",
    "        \n",
    "        elif J == 3:\n",
    "            #Remove dominated regions from next processing layer\n",
    "\n",
    "            regions1 = deleteDominated(regions2)\n",
    "        \n",
    "        #Count new regions\n",
    "        num_regions += len(regions1)\n",
    "        #Reset empty list of regions for the next processing level\n",
    "        regions2 = []\n",
    "        \n",
    "    ndf_final = NDF.copy() \n",
    "    if J == 2:\n",
    "\n",
    "              \n",
    "    \n",
    "        for i in range(len(NDF)):\n",
    "            for j in range(len(NDF)): \n",
    "    \n",
    "                if i == j:\n",
    "                    continue\n",
    "        \n",
    "                if NDF[i][0]>= NDF[j][0]:\n",
    "                    if NDF[i][1] >= NDF[j][1]:\n",
    "                        ndf_final.remove(NDF[i])\n",
    "                    break\n",
    "    \n",
    "    return ndf_final, num_regions"
   ]
  },
  {
   "cell_type": "code",
   "execution_count": 5,
   "metadata": {},
   "outputs": [],
   "source": [
    "def BruteForce(c,a,b):\n",
    "\n",
    "    num = len(c[0])\n",
    "    x_values = list(itertools.product([0, 1], repeat = num))\n",
    "  \n",
    "    feasible_z = []\n",
    "\n",
    "    for x in range(len(x_values)):\n",
    "        constraints_satisfied = 0\n",
    "        for k in range(len(b)):\n",
    "            if np.dot(x_values[x], a[k]) <= b[k]:\n",
    "                constraints_satisfied += 1\n",
    "        if constraints_satisfied == len(b): # only if all the constraints are satisfied\n",
    "            obj = []\n",
    "            for z in c:\n",
    "                obj.append(np.dot(x_values[x], z))\n",
    "          \n",
    "            if obj not in feasible_z:\n",
    "                feasible_z.append(obj)\n",
    "\n",
    "    feasible_z = np.array(feasible_z)\n",
    "    feasible_z = feasible_z[np.argsort(feasible_z[:, 0])]\n",
    "    \n",
    "    next_point = 0  # Next index in the NDP array to search for \n",
    "\n",
    "    while next_point < len(feasible_z):\n",
    "        ndp = np.any(feasible_z < feasible_z[next_point], axis = 1)\n",
    "        ndp[next_point] = True\n",
    "        feasible_z = feasible_z[ndp]\n",
    "        next_point = np.sum(ndp[:next_point]) + 1\n",
    "\n",
    "    return feasible_z, 0"
   ]
  },
  {
   "cell_type": "code",
   "execution_count": 6,
   "metadata": {},
   "outputs": [],
   "source": [
    "def randInstanceGen(n,m,J,U):\n",
    "    # Reset seed for safety\n",
    "    np.random.seed(0)\n",
    "    # Set seed\n",
    "    np.random.seed(61836)\n",
    "    \n",
    "    c = np.random.randint(1,U+1,(J,n))\n",
    "    a = np.random.randint(1,U+1,(n,m))\n",
    "    \n",
    "    b = np.max(a, axis=0)\n",
    "    \n",
    "    for i in range(0, m):\n",
    "        if math.ceil(np.sum(a[:,i])/2) > b[i]:\n",
    "            b[i] = math.ceil(np.sum(a[:,i])/2)\n",
    "    \n",
    "    return c*-1, a, b"
   ]
  },
  {
   "cell_type": "code",
   "execution_count": null,
   "metadata": {},
   "outputs": [],
   "source": [
    "def n():    \n",
    "    n_compare = [[],[]]\n",
    "    for i in range (2,200):\n",
    "        \n",
    "        C,A,B = randInstanceGen(i,1,2,40)\n",
    "        t = time.time()\n",
    "        Supernal(C,A,B)\n",
    "        t = time.time() - t\n",
    "        n_compare[0].append(i)\n",
    "        n_compare[1].append(t)\n",
    "        print(i)\n",
    "    \n",
    "    plt.plot(n_compare[0],n_compare[1])\n",
    "    plt.xlabel('Variables')  \n",
    "    plt.ylabel('Run Time (s)')\n",
    "    plt.title('Run Time by Number of Variables')\n",
    "    plt.savefig('n_comparison.pdf')  \n",
    "    plt.show()\n",
    "\n",
    "def m():\n",
    "    m_compare = [[],[]]\n",
    "    for j in range (1,1000):\n",
    "        \n",
    "        C,A,B = randInstanceGen(10,j,2,40)\n",
    "        t = time.time()\n",
    "        Supernal(C,A,B)\n",
    "        t = time.time() - t\n",
    "        m_compare[0].append(j)\n",
    "        m_compare[1].append(t)\n",
    "        print(j)\n",
    "\n",
    "        \n",
    "    plt.plot(m_compare[0],m_compare[1])\n",
    "    plt.xlabel('Constraints')  \n",
    "    plt.ylabel('Run Time (s)')\n",
    "    plt.title('Run Time by Number of Constraints')\n",
    "    plt.savefig('m_comparison.pdf')  \n",
    "    plt.show()\n",
    "\n",
    "def j():\n",
    "    j_compare = [[],[]]\n",
    "    for j in range (2,6):\n",
    "        timecounter = 0\n",
    "        for i in range(100):        \n",
    "            C,A,B = randInstanceGen(20,2,j,40)\n",
    "            t = time.time()\n",
    "            SupernalJ(C,A,B)\n",
    "            timecounter += (time.time() - t)\n",
    "        j_compare[0].append(j)\n",
    "        j_compare[1].append(timecounter/200)\n",
    "        print(j)\n",
    "\n",
    "        \n",
    "    plt.plot(j_compare[0],j_compare[1])\n",
    "    plt.xlabel('Objective Functions')  \n",
    "    plt.ylabel('Run Time (s)')\n",
    "    plt.title('Run Time by Number of Objective Functions')\n",
    "    plt.savefig('j_comparison_n20_m2.pdf')  \n",
    "    plt.show()\n",
    " \n"
   ]
  },
  {
   "cell_type": "code",
   "execution_count": 31,
   "metadata": {},
   "outputs": [],
   "source": [
    "#Brute Force Times \n",
    "def BF_times(items, const):\n",
    "  \n",
    "    bf_times = []\n",
    "    bf_num_items = []\n",
    "\n",
    "    for ind in range(1, items+1):\n",
    "        c, a, b = randInstanceGen(ind, const, 2, 40)\n",
    "        a = a.transpose()\n",
    "        bf_num_items.append(ind)\n",
    "        start = time.time()\n",
    "        ndf = BruteForce(c,a,b)\n",
    "        end = time.time() - start\n",
    "        bf_times.append(end)\n",
    "\n",
    "        #plt.plot(num_items, times)\n",
    "        #plt.xlabel(\"Number of Items (n)\")\n",
    "        #plt.ylabel(\"Time (s)\")\n",
    "        #plt.title(\"Brute Force Complexity\")\n",
    "        #plt.savefig('BF_complexity_n.pdf')\n",
    "    return bf_times, bf_num_items"
   ]
  },
  {
   "cell_type": "code",
   "execution_count": 24,
   "metadata": {},
   "outputs": [],
   "source": [
    "def SM_times(items, const):\n",
    "  \n",
    "    sm_times = []\n",
    "    sm_num_items = []\n",
    "\n",
    "    for ind in range(1, items+1):\n",
    "        c, a, b = randInstanceGen(ind, const, 2, 40)\n",
    "        a = a.transpose()\n",
    "        sm_num_items.append(ind)\n",
    "        start = time.time()\n",
    "        ndf = SupernalEff(c,a,b)\n",
    "        end = time.time() - start\n",
    "        sm_times.append(end)\n",
    "\n",
    "        #plt.plot(num_items, times)\n",
    "        #plt.xlabel(\"Number of Items (n)\")\n",
    "        #plt.ylabel(\"Time (s)\")\n",
    "        #plt.title(\"Brute Force Complexity\")\n",
    "        #plt.savefig('BF_complexity_n.pdf')\n",
    "    return sm_times, sm_num_items"
   ]
  },
  {
   "cell_type": "code",
   "execution_count": 28,
   "metadata": {},
   "outputs": [],
   "source": [
    "def RD_times(items, const):\n",
    "  \n",
    "    rd_times = []\n",
    "    rd_num_items = []\n",
    "\n",
    "    for ind in range(1, items+1):\n",
    "        c, a, b = randInstanceGen(ind, const, 2, 40)\n",
    "        #a = a.transpose()\n",
    "        rd_num_items.append(ind)\n",
    "        start = time.time()\n",
    "        ndf = rectangularSMART(c,a,b)\n",
    "        end = time.time() - start\n",
    "        rd_times.append(end)\n",
    "\n",
    "        #plt.plot(num_items, times)\n",
    "        #plt.xlabel(\"Number of Items (n)\")\n",
    "        #plt.ylabel(\"Time (s)\")\n",
    "        #plt.title(\"Brute Force Complexity\")\n",
    "        #plt.savefig('BF_complexity_n.pdf')\n",
    "    return rd_times, rd_num_items"
   ]
  },
  {
   "cell_type": "code",
   "execution_count": 36,
   "metadata": {},
   "outputs": [],
   "source": [
    "bf_time, bf_items = BF_times(18, 1)"
   ]
  },
  {
   "cell_type": "code",
   "execution_count": 37,
   "metadata": {},
   "outputs": [
    {
     "data": {
      "image/png": "[encoded data removed]",
      "text/plain": [
       "<Figure size 432x288 with 1 Axes>"
      ]
     },
     "metadata": {
      "needs_background": "light"
     },
     "output_type": "display_data"
    }
   ],
   "source": [
    "plt.plot(bf_items, bf_time)\n",
    "plt.xlabel(\"Number of Items (n)\")\n",
    "plt.ylabel(\"Time (s)\")\n",
    "plt.title(\"Brute Force Complexity\")\n",
    "plt.savefig('BF_complexity_n.pdf')"
   ]
  },
  {
   "cell_type": "code",
   "execution_count": 38,
   "metadata": {},
   "outputs": [],
   "source": [
    "sm_time, sm_items = SM_times(100 ,1 )"
   ]
  },
  {
   "cell_type": "code",
   "execution_count": 41,
   "metadata": {},
   "outputs": [
    {
     "data": {
      "image/png": "[encoded data removed]",
      "text/plain": [
       "<Figure size 432x288 with 1 Axes>"
      ]
     },
     "metadata": {
      "needs_background": "light"
     },
     "output_type": "display_data"
    }
   ],
   "source": [
    "plt.plot(sm_items, sm_time)\n",
    "plt.xlabel(\"Number of Items (n)\")\n",
    "plt.ylabel(\"Time (s)\")\n",
    "plt.title(\"Supernal Method\")\n",
    "plt.savefig('SM_complexity_n.pdf')"
   ]
  },
  {
   "cell_type": "code",
   "execution_count": 39,
   "metadata": {},
   "outputs": [],
   "source": [
    "rd_time, rd_items = RD_times(100,1)"
   ]
  },
  {
   "cell_type": "code",
   "execution_count": 42,
   "metadata": {},
   "outputs": [
    {
     "data": {
      "image/png": "[encoded data removed]",
      "text/plain": [
       "<Figure size 432x288 with 1 Axes>"
      ]
     },
     "metadata": {
      "needs_background": "light"
     },
     "output_type": "display_data"
    }
   ],
   "source": [
    "plt.plot(rd_items, rd_time)\n",
    "plt.xlabel(\"Number of Items (n)\")\n",
    "plt.ylabel(\"Time (s)\")\n",
    "plt.title(\"Rectangular Diviison\")\n",
    "plt.savefig('RD_complexity_n.pdf')"
   ]
  },
  {
   "cell_type": "code",
   "execution_count": 63,
   "metadata": {},
   "outputs": [
    {
     "data": {
      "text/plain": [
       "array([ 1,  2,  3,  4,  5,  6,  7,  8,  9, 10, 11, 12, 13, 14, 15, 16, 17])"
      ]
     },
     "execution_count": 63,
     "metadata": {},
     "output_type": "execute_result"
    }
   ],
   "source": [
    "bf_items_new = np.delete(bf_items, 17 )\n",
    "bf_items_new"
   ]
  },
  {
   "cell_type": "code",
   "execution_count": 64,
   "metadata": {},
   "outputs": [
    {
     "data": {
      "text/plain": [
       "array([2.24828720e-04, 2.53200531e-04, 2.72989273e-04, 8.73088837e-04,\n",
       "       2.65479088e-03, 2.97713280e-03, 5.34296036e-03, 1.14710331e-02,\n",
       "       1.98931694e-02, 3.35597992e-02, 7.34536648e-02, 2.00110197e-01,\n",
       "       6.82349205e-01, 2.30506325e+00, 6.27102017e+00, 1.14993961e+01,\n",
       "       3.41753390e+01])"
      ]
     },
     "execution_count": 64,
     "metadata": {},
     "output_type": "execute_result"
    }
   ],
   "source": [
    "bf_times_new = np.delete(bf_time, 17)\n",
    "bf_times_new"
   ]
  },
  {
   "cell_type": "code",
   "execution_count": 67,
   "metadata": {},
   "outputs": [
    {
     "data": {
      "image/png": "[encoded data removed]",
      "text/plain": [
       "<Figure size 432x288 with 1 Axes>"
      ]
     },
     "metadata": {
      "needs_background": "light"
     },
     "output_type": "display_data"
    }
   ],
   "source": [
    "plt.plot(bf_items_new, bf_times_new, label = \"BF\")\n",
    "plt.plot(sm_items, sm_time, label = \"SM\")\n",
    "plt.plot(rd_items, rd_time, label = \"RD\")\n",
    "plt.xlabel('Number of items')\n",
    "plt.ylabel(\"Time(s)\")\n",
    "plt.legend()\n",
    "plt.savefig('Runtime_Comparison.pdf')\n",
    "plt.show()\n"
   ]
  },
  {
   "cell_type": "code",
   "execution_count": 74,
   "metadata": {},
   "outputs": [],
   "source": [
    "def RD_times_c(items, const):\n",
    "  \n",
    "    rd_times = []\n",
    "    rd_num_items = []\n",
    "\n",
    "    for co in range(1, const+1):\n",
    "        c, a, b = randInstanceGen(items, co, 2, 40)\n",
    "        #a = a.transpose()\n",
    "        rd_num_items.append(co)\n",
    "        start = time.time()\n",
    "        ndf = rectangularSMART(c,a,b)\n",
    "        end = time.time() - start\n",
    "        rd_times.append(end)\n",
    "\n",
    "        #plt.plot(num_items, times)\n",
    "        #plt.xlabel(\"Number of Items (n)\")\n",
    "        #plt.ylabel(\"Time (s)\")\n",
    "        #plt.title(\"Brute Force Complexity\")\n",
    "        #plt.savefig('BF_complexity_n.pdf')\n",
    "    return rd_times, rd_num_items"
   ]
  },
  {
   "cell_type": "code",
   "execution_count": 72,
   "metadata": {},
   "outputs": [],
   "source": [
    "def SM_times_c(items, const):\n",
    "  \n",
    "    sm_times = []\n",
    "    sm_num_items = []\n",
    "\n",
    "    for co in range(1, const+1):\n",
    "        c, a, b = randInstanceGen(items, co, 2, 40)\n",
    "        a = a.transpose()\n",
    "        sm_num_items.append(co)\n",
    "        start = time.time()\n",
    "        ndf = SupernalEff(c,a,b)\n",
    "        end = time.time() - start\n",
    "        sm_times.append(end)\n",
    "\n",
    "        #plt.plot(num_items, times)\n",
    "        #plt.xlabel(\"Number of Items (n)\")\n",
    "        #plt.ylabel(\"Time (s)\")\n",
    "        #plt.title(\"Brute Force Complexity\")\n",
    "        #plt.savefig('BF_complexity_n.pdf')\n",
    "    return sm_times, sm_num_items"
   ]
  },
  {
   "cell_type": "code",
   "execution_count": 73,
   "metadata": {},
   "outputs": [],
   "source": [
    "def BF_times_c(items, const):\n",
    "  \n",
    "    bf_times = []\n",
    "    bf_num_items = []\n",
    "\n",
    "    for co in range(1, const+1):\n",
    "        c, a, b = randInstanceGen(items, co, 2, 40)\n",
    "        a = a.transpose()\n",
    "        bf_num_items.append(co)\n",
    "        start = time.time()\n",
    "        ndf = BruteForce(c,a,b)\n",
    "        end = time.time() - start\n",
    "        bf_times.append(end)\n",
    "\n",
    "        #plt.plot(num_items, times)\n",
    "        #plt.xlabel(\"Number of Items (n)\")\n",
    "        #plt.ylabel(\"Time (s)\")\n",
    "        #plt.title(\"Brute Force Complexity\")\n",
    "        #plt.savefig('BF_complexity_n.pdf')\n",
    "    return bf_times, bf_num_items"
   ]
  },
  {
   "cell_type": "code",
   "execution_count": 97,
   "metadata": {},
   "outputs": [],
   "source": [
    "btime, bitem = BF_times_c(10, 100)"
   ]
  },
  {
   "cell_type": "code",
   "execution_count": 98,
   "metadata": {},
   "outputs": [
    {
     "data": {
      "image/png": "[encoded data removed]",
      "text/plain": [
       "<Figure size 432x288 with 1 Axes>"
      ]
     },
     "metadata": {
      "needs_background": "light"
     },
     "output_type": "display_data"
    }
   ],
   "source": [
    "plt.plot(bitem, btime)\n",
    "plt.xlabel(\"Number of Items (n)\")\n",
    "plt.ylabel(\"Time (s)\")\n",
    "plt.title(\"Brute Force\")\n",
    "plt.savefig('BF_complexity_c.pdf')"
   ]
  },
  {
   "cell_type": "code",
   "execution_count": 99,
   "metadata": {},
   "outputs": [],
   "source": [
    "stime, sitem = SM_times_c(10, 100)"
   ]
  },
  {
   "cell_type": "code",
   "execution_count": 100,
   "metadata": {},
   "outputs": [
    {
     "data": {
      "image/png": "[encoded data removed]",
      "text/plain": [
       "<Figure size 432x288 with 1 Axes>"
      ]
     },
     "metadata": {
      "needs_background": "light"
     },
     "output_type": "display_data"
    }
   ],
   "source": [
    "plt.plot(sitem, stime)\n",
    "plt.xlabel(\"Number of Items (n)\")\n",
    "plt.ylabel(\"Time (s)\")\n",
    "plt.title(\"Supernal Method\")\n",
    "plt.savefig('SM_complexity_c.pdf')"
   ]
  },
  {
   "cell_type": "code",
   "execution_count": null,
   "metadata": {},
   "outputs": [],
   "source": [
    "rtime, ritem = RD_times_c(10, 100)"
   ]
  },
  {
   "cell_type": "code",
   "execution_count": 93,
   "metadata": {},
   "outputs": [
    {
     "data": {
      "image/png": "[encoded data removed]",
      "text/plain": [
       "<Figure size 432x288 with 1 Axes>"
      ]
     },
     "metadata": {
      "needs_background": "light"
     },
     "output_type": "display_data"
    }
   ],
   "source": [
    "plt.plot(ritem, rtime)\n",
    "plt.xlabel(\"Number of Items (n)\")\n",
    "plt.ylabel(\"Time (s)\")\n",
    "plt.title(\"Rectangular Diviison\")\n",
    "plt.savefig('RD_complexity_c.pdf')"
   ]
  },
  {
   "cell_type": "code",
   "execution_count": null,
   "metadata": {},
   "outputs": [],
   "source": [
    "plt.plot(bitem, btime, label = \"BF\")\n",
    "plt.plot(sitem, stime, label = \"SM\")\n",
    "plt.plot(ritem, rtime, label = \"RD\")\n",
    "plt.xlabel('Number of items')\n",
    "plt.ylabel(\"Time(s)\")\n",
    "plt.legend()\n",
    "plt.savefig('Runtime_Comparison_const.pdf')\n",
    "plt.show()"
   ]
  },
  {
   "cell_type": "code",
   "execution_count": null,
   "metadata": {},
   "outputs": [],
   "source": []
  }
 ],
 "metadata": {
  "kernelspec": {
   "display_name": "Python 3",
   "language": "python",
   "name": "python3"
  },
  "language_info": {
   "codemirror_mode": {
    "name": "ipython",
    "version": 3
   },
   "file_extension": ".py",
   "mimetype": "text/x-python",
   "name": "python",
   "nbconvert_exporter": "python",
   "pygments_lexer": "ipython3",
   "version": "3.7.4"
  }
 },
 "nbformat": 4,
 "nbformat_minor": 2
}
