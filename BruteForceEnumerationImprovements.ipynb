{
  "nbformat": 4,
  "nbformat_minor": 0,
  "metadata": {
    "colab": {
      "name": "BruteForceEnumeration.ipynb",
      "provenance": [],
      "collapsed_sections": []
    },
    "kernelspec": {
      "name": "python3",
      "display_name": "Python 3"
    }
  },
  "cells": [
    {
      "cell_type": "code",
      "metadata": {
        "id": "MZ7t7YAZ1Ggf",
        "colab_type": "code",
        "colab": {}
      },
      "source": [
        "import numpy as np\n",
        "import time as time\n",
        "import math\n",
        "import itertools\n",
        "#from google.colab import drive\n",
        "#drive.mount('/content/gdrive', force_remount=True)"
      ],
      "execution_count": 0,
      "outputs": []
    },
    {
      "cell_type": "code",
      "metadata": {
        "id": "NLvOxe6uOgI0",
        "colab_type": "code",
        "colab": {}
      },
      "source": [
        "def BruteForce1(input_):\n",
        "\n",
        "  # num, b, c, a = importlist(input)\n",
        "  num, b, c, a = input_\n",
        "  x_values = list(itertools.product([0, 1], repeat = num))\n",
        "  \n",
        "  feasible_z = []\n",
        "\n",
        "  for x in range(len(x_values)):\n",
        "      constraints_satisfied = 0\n",
        "      for k in range(len(b)):\n",
        "          if np.dot(x_values[x], a[k]) <= b[k]:\n",
        "              constraints_satisfied += 1\n",
        "      if constraints_satisfied == len(b): # only if all the constraints are satisfied\n",
        "          obj = []\n",
        "          for z in c:\n",
        "              obj.append(np.dot(x_values[x], z))\n",
        "          \n",
        "          if obj not in feasible_z: # don't allow duplicates\n",
        "              feasible_z.append(obj)\n",
        "\n",
        "  return get_ndf(feasible_z)"
      ],
      "execution_count": 0,
      "outputs": []
    },
    {
      "cell_type": "code",
      "metadata": {
        "id": "mCAOTR1N--Zl",
        "colab_type": "code",
        "colab": {}
      },
      "source": [
        "def get_ndf(feasible_points):\n",
        "\n",
        "  feasible = np.array(feasible_points)\n",
        "  NDPs = np.ones(feasible.shape[0], dtype = bool)\n",
        "  \n",
        "  for i, j in enumerate(feasible):\n",
        "    if NDPs[i]: \n",
        "      NDPs[NDPs] = np.any(feasible[NDPs] < j , axis=1)\n",
        "      NDPs[i] = True\n",
        "\n",
        "  return feasible[NDPs]"
      ],
      "execution_count": 0,
      "outputs": []
    },
    {
      "cell_type": "code",
      "metadata": {
        "id": "A1wVvLKF7nhC",
        "colab_type": "code",
        "colab": {}
      },
      "source": [
        "def BruteForce2(input_):\n",
        "\n",
        "  # num, b, c, a = importlist(input)\n",
        "  num, b, c, a = input_\n",
        "  x_values = list(itertools.product([0, 1], repeat = num))\n",
        "  \n",
        "  feasible_z = []\n",
        "  NDPs = []\n",
        "  count = 0\n",
        "\n",
        "  for x in range(len(x_values)):\n",
        "      constraints_satisfied = 0\n",
        "      for k in range(len(b)):\n",
        "          if np.dot(x_values[x], a[k]) <= b[k]:\n",
        "              constraints_satisfied += 1\n",
        "      if constraints_satisfied == len(b): # only if all the constraints are satisfied\n",
        "          obj = []\n",
        "          for z in c:\n",
        "              obj.append(np.dot(x_values[x], z))\n",
        "          \n",
        "          if feasible_z == [] and obj not in feasible_z:\n",
        "            feasible_z.append(obj)\n",
        "            \n",
        "          elif np.any(np.array(feasible_z) >= np.array(obj)):\n",
        "            feasible_z.append(obj)\n",
        "  \n",
        "  return get_ndf(feasible_z)"
      ],
      "execution_count": 0,
      "outputs": []
    },
    {
      "cell_type": "code",
      "metadata": {
        "id": "RsvJGi-4M_b0",
        "colab_type": "code",
        "colab": {}
      },
      "source": [
        "def BruteForce(input_):\n",
        "\n",
        "  # num, b, c, a = importlist(input)\n",
        "  num, b, c, a = input_\n",
        "  x_values = list(itertools.product([0, 1], repeat = num))\n",
        "  \n",
        "  feasible_z = []\n",
        "  NDPs = []\n",
        "  count = 0\n",
        "\n",
        "  for x in range(len(x_values)):\n",
        "      constraints_satisfied = 0\n",
        "      for k in range(len(b)):\n",
        "          if np.dot(x_values[x], a[k]) <= b[k]:\n",
        "              constraints_satisfied += 1\n",
        "      if constraints_satisfied == len(b): # only if all the constraints are satisfied\n",
        "          obj = []\n",
        "          for z in c:\n",
        "              obj.append(np.dot(x_values[x], z))\n",
        "          \n",
        "          if obj not in feasible_z:\n",
        "            feasible_z.append(obj)\n",
        "\n",
        "  feasible_z = np.array(feasible_z)\n",
        "  NDPs = np.arange(feasible_z.shape[0])\n",
        "  next_point = 0  # Next index in the is_efficient array to search for\n",
        "  \n",
        "  while next_point < len(feasible_z):\n",
        "    ndp = np.any(feasible_z < feasible_z[next_point], axis = 1)\n",
        "    ndp[next_point] = True\n",
        "    NDPs = NDPs[ndp]  # Remove dominated points\n",
        "    feasible_z = feasible_z[ndp]\n",
        "    next_point = np.sum(ndp[:next_point]) + 1\n",
        "\n",
        "  return feasible_z"
      ],
      "execution_count": 0,
      "outputs": []
    },
    {
      "cell_type": "code",
      "metadata": {
        "id": "IxTqGwmhIwM4",
        "colab_type": "code",
        "colab": {}
      },
      "source": [
        "def times(inputs):\n",
        "  \n",
        "  s1 = time.time()\n",
        "  ndf = BruteForce1(inputs)\n",
        "  t1 = time.time() - s1\n",
        "\n",
        "  s2 = time.time()\n",
        "  ndf = BruteForce2(inputs)\n",
        "  t2 = time.time() - s2\n",
        "\n",
        "  s3 = time.time()\n",
        "  ndf = BruteForce(inputs)\n",
        "  t3 = time.time() - s3\n",
        "\n",
        "  return t1, t2, t3"
      ],
      "execution_count": 0,
      "outputs": []
    }
  ]
}