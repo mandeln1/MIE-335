{
  "nbformat": 4,
  "nbformat_minor": 0,
  "metadata": {
    "colab": {
      "name": "BruteForceFinal.ipynb",
      "provenance": []
    },
    "kernelspec": {
      "name": "python3",
      "display_name": "Python 3"
    }
  },
  "cells": [
    {
      "cell_type": "code",
      "metadata": {
        "id": "EKJTUqNvtope",
        "colab_type": "code",
        "colab": {}
      },
      "source": [
        "import numpy as np\n",
        "import time as time\n",
        "import matplotlib.pyplot as plt\n",
        "import math\n",
        "import itertools"
      ],
      "execution_count": 0,
      "outputs": []
    },
    {
      "cell_type": "code",
      "metadata": {
        "id": "kuO8690ctsrt",
        "colab_type": "code",
        "colab": {}
      },
      "source": [
        "def BruteForce(input_value):\n",
        "\n",
        "  num, b, c, a = importlist(input_value)\n",
        "  x_values = list(itertools.product([0, 1], repeat = num))\n",
        "  \n",
        "  feasible_z = []\n",
        "\n",
        "  for x in range(len(x_values)):\n",
        "      constraints_satisfied = 0\n",
        "      for k in range(len(b)):\n",
        "          if np.dot(x_values[x], a[k]) <= b[k]:\n",
        "              constraints_satisfied += 1\n",
        "      if constraints_satisfied == len(b): # only if all the constraints are satisfied\n",
        "          obj = []\n",
        "          for z in c:\n",
        "              obj.append(np.dot(x_values[x], z))\n",
        "          \n",
        "          if obj not in feasible_z:\n",
        "            feasible_z.append(obj)\n",
        "\n",
        "  feasible_z = np.array(feasible_z)\n",
        "  feasible_z = feasible_z[np.argsort(feasible_z[:, i])]\n",
        "\n",
        "  next_point = 0  # Next index in the NDP array to search for \n",
        "\n",
        "  while next_point < len(feasible_z):\n",
        "    ndp = np.any(feasible_z < feasible_z[next_point], axis = 1)\n",
        "    ndp[next_point] = True\n",
        "    feasible_z = feasible_z[ndp]\n",
        "    next_point = np.sum(ndp[:next_point]) + 1\n",
        "\n",
        "  return feasible_z"
      ],
      "execution_count": 0,
      "outputs": []
    }
  ]
}