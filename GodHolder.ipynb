{
 "cells": [
  {
   "cell_type": "code",
   "execution_count": 4,
   "metadata": {},
   "outputs": [],
   "source": [
    "import pandas as pd\n",
    "import numpy as np\n",
    "import scipy as sp\n",
    "import queue as Q\n",
    "import gurobipy as gp\n",
    "from gurobipy import GRB\n",
    "import itertools\n",
    "import matplotlib.pyplot  as plt\n",
    "import copy\n",
    "import time\n",
    "import collections\n",
    "import os\n",
    "\n",
    "def importlist(inputtext):\n",
    "    import numpy as np\n",
    "    list_of_lists = []\n",
    "\n",
    "    with open(inputtext) as f:\n",
    "        for line in f:\n",
    "            inner_list = line.split(\"\\n\")\n",
    "            doubleInner = [liner.strip() for liner in inner_list[0].split(\" \")]\n",
    "            if doubleInner[-1] == '':\n",
    "                doubleInner.pop(-1)\n",
    "            list_of_lists.append(doubleInner)\n",
    "    flag = False\n",
    "    holder = []\n",
    "    objectives = []\n",
    "    attributes = []\n",
    "    for part in list_of_lists:\n",
    "        part = list(map(int,part))\n",
    "        if part[0] < 0:\n",
    "            # it is an obj value\n",
    "            objectives.append(part)\n",
    "            flag = True\n",
    "            continue\n",
    "        if flag:\n",
    "            # it is constraints\n",
    "            attributes.append(part)\n",
    "            continue\n",
    "        #it is the first guys\n",
    "        holder.append(part[0])\n",
    "    itemCount = holder[0]\n",
    "    b = holder[1:]\n",
    "    return itemCount, np.array(b), np.array(objectives).reshape(-1,itemCount), np.array(attributes).transpose()\n",
    "\n",
    "def  SolveKnapsack_GROUPNUMBER(Input_file_directory , method):\n",
    "    n,b,c,a = importlist(Input_file_directory)\n",
    "    direction = os.getcwd () + \"/\"\n",
    "    if  method  == 1:\n",
    "        holder = time.perf_counter()\n",
    "        NDP, extra = ALGOFORBRUTE\n",
    "        time1 = time.perf_counter() - holder\n",
    "        NDP = getordered(NDP)\n",
    "        np.savetxt(direction + \"BF_NDP_21.txt\", NDP, delimiter='\\t', newline='\\n')\n",
    "        summary = [time1, NDP.shape[0], extra]\n",
    "        np.savetxt(direction + \"BF_SUMMARY_21.txt\",summary, delimiter='\\t', newline='\\n')\n",
    "    elif  method  == 2:\n",
    "        holder = time.perf_counter()\n",
    "        NDP, extra = ALGOFORRECTANGULAR\n",
    "        time2 = time.perf_counter() - holder\n",
    "        NDP = getordered(NDP)\n",
    "        np.savetxt(direction + \"BB_NDP_21.txt\", NDP, delimiter='\\t', newline='\\n')\n",
    "        summary = [time2, NDP.shape[0], extra]\n",
    "        np.savetxt(direction + \"BB_SUMMARY_21.txt\",summary, delimiter='\\t', newline='\\n')\n",
    "    elif  method  == 3:\n",
    "        holder = time.perf_counter()\n",
    "        NDP, extra = ALGOFORSUPERNAL\n",
    "        time3 = time.perf_counter() - holder\n",
    "        NDP = getordered(NDP)\n",
    "        np.savetxt(direction + \"SP_NDP_21.txt\", NDP, delimiter='\\t', newline='\\n')\n",
    "        summary = [time3, NDP.shape[0], extra]\n",
    "        np.savetxt(direction + \"SP_SUMMARY_21.txt\",summary, delimiter='\\t', newline='\\n')\n",
    "    elif  method  == 4:\n",
    "        holder = time.perf_counter()\n",
    "        NDP, extra = ALGOFORJis2COMP\n",
    "        time4 = time.perf_counter() - holder\n",
    "        NDP = getordered(NDP)\n",
    "        np.savetxt(direction + \"COMPETITION_2D_NDP_21.txt\", NDP, delimiter='\\t', newline='\\n')\n",
    "        summary = [time4, NDP.shape[0], extra]\n",
    "        np.savetxt(direction + \"COMPETITION_2D_SUMMARY_21.txt\",summary, delimiter='\\t', newline='\\n')\n",
    "    elif  method  == 5:\n",
    "        holder = time.perf_counter()\n",
    "        NDP, extra = ALGOFORJis3COMP\n",
    "        time5 = time.perf_counter() - holder\n",
    "        NDP = getordered(NDP)\n",
    "        np.savetxt(direction + \"COMPETITION_3D_NDP_21.txt\", NDP, delimiter='\\t', newline='\\n')\n",
    "        summary = [time5, NDP.shape[0], extra]\n",
    "        np.savetxt(direction + \"COMPETITION_3D_SUMMARY_21.txt\",summary, delimiter='\\t', newline='\\n')\n",
    "    return\n",
    "def getordered(NDP):\n",
    "    setup = ()\n",
    "    for i in reversed(range(a.shape[1])):\n",
    "        setup += (a[:,i],)\n",
    "    ind = np.lexsort(setup)\n",
    "    return np.array([list(a[i,:]) for i in ind])"
   ]
  },
  {
   "cell_type": "code",
   "execution_count": 95,
   "metadata": {},
   "outputs": [],
   "source": [
    "a = np.array([[-7.26,-6.124,-4.646],[-5.033,-7.885,-6.461],[-6.335,-6.156,-5.954],[-6.353,-7.832,-4.775]])"
   ]
  },
  {
   "cell_type": "code",
   "execution_count": 96,
   "metadata": {},
   "outputs": [
    {
     "name": "stdout",
     "output_type": "stream",
     "text": [
      "[0 3 2 1]\n"
     ]
    }
   ],
   "source": [
    "setup = ()\n",
    "for i in reversed(range(a.shape[1])):\n",
    "    setup += (a[:,i],)\n",
    "ind = np.lexsort(setup)\n",
    "print(ind)"
   ]
  },
  {
   "cell_type": "code",
   "execution_count": 97,
   "metadata": {},
   "outputs": [
    {
     "data": {
      "text/plain": [
       "array([[-7.26 , -6.124, -4.646],\n",
       "       [-6.353, -7.832, -4.775],\n",
       "       [-6.335, -6.156, -5.954],\n",
       "       [-5.033, -7.885, -6.461]])"
      ]
     },
     "execution_count": 97,
     "metadata": {},
     "output_type": "execute_result"
    }
   ],
   "source": [
    "np.array([list(a[i,:]) for i in ind])"
   ]
  }
 ],
 "metadata": {
  "kernelspec": {
   "display_name": "Python 3",
   "language": "python",
   "name": "python3"
  },
  "language_info": {
   "codemirror_mode": {
    "name": "ipython",
    "version": 3
   },
   "file_extension": ".py",
   "mimetype": "text/x-python",
   "name": "python",
   "nbconvert_exporter": "python",
   "pygments_lexer": "ipython3",
   "version": "3.7.4"
  }
 },
 "nbformat": 4,
 "nbformat_minor": 4
}
