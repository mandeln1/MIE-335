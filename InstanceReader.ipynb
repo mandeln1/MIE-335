{
 "cells": [
  {
   "cell_type": "code",
   "execution_count": 156,
   "metadata": {},
   "outputs": [],
   "source": [
    "def importlist(inputtext):\n",
    "    list_of_lists = []\n",
    "\n",
    "    with open(inputtext) as f:\n",
    "        for line in f:\n",
    "            inner_list = line.split(\"\\n\")\n",
    "            doubleInner = [liner.strip() for liner in inner_list[0].split(\" \")]\n",
    "            if doubleInner[-1] == '':\n",
    "                doubleInner.pop(-1)\n",
    "            list_of_lists.append(doubleInner)\n",
    "    flag = False\n",
    "    holder = []\n",
    "    objectives = []\n",
    "    attributes = []\n",
    "    for part in list_of_lists:\n",
    "        part = list(map(int,part))\n",
    "        if part[0] < 0:\n",
    "            # it is an obj value\n",
    "            objectives.append(part)\n",
    "            flag = True\n",
    "            continue\n",
    "        if flag:\n",
    "            # it is constraints\n",
    "            attributes.append(part)\n",
    "            continue\n",
    "        #it is the first guys\n",
    "        holder.append(part[0])\n",
    "    itemCount = holder[0]\n",
    "    b = holder[1:]\n",
    "    return itemCount, b, objectives, attributes"
   ]
  },
  {
   "cell_type": "code",
   "execution_count": 157,
   "metadata": {},
   "outputs": [
    {
     "data": {
      "text/plain": [
       "(375, [10100, 10527], 2, 2)"
      ]
     },
     "execution_count": 157,
     "metadata": {},
     "output_type": "execute_result"
    }
   ],
   "source": [
    "importlist(\"input.txt\")"
   ]
  },
  {
   "cell_type": "code",
   "execution_count": null,
   "metadata": {},
   "outputs": [],
   "source": []
  }
 ],
 "metadata": {
  "kernelspec": {
   "display_name": "Python 3",
   "language": "python",
   "name": "python3"
  },
  "language_info": {
   "codemirror_mode": {
    "name": "ipython",
    "version": 3
   },
   "file_extension": ".py",
   "mimetype": "text/x-python",
   "name": "python",
   "nbconvert_exporter": "python",
   "pygments_lexer": "ipython3",
   "version": "3.7.4"
  }
 },
 "nbformat": 4,
 "nbformat_minor": 4
}
