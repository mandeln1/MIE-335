{
 "cells": [
  {
   "cell_type": "code",
   "execution_count": 28,
   "metadata": {},
   "outputs": [],
   "source": [
    "import numpy as np\n",
    "import math\n",
    "def randInstanceGen(n,m,J,U):\n",
    "    # Reset seed for safety\n",
    "    np.random.seed(0)\n",
    "    # Set seed\n",
    "    np.random.seed(61836)\n",
    "    \n",
    "    c = np.random.randint(1,U+1,(J,n))\n",
    "    a = np.random.randint(1,U+1,(n,m))\n",
    "    \n",
    "    b = np.max(a, axis=0)\n",
    "    \n",
    "    for i in range(0, m):\n",
    "        if math.ceil(np.sum(a[:,i])/2) > b[i]:\n",
    "            b[i] = math.ceil(np.sum(a[:,i])/2)\n",
    "    \n",
    "    return c.reshape(-1), a, b"
   ]
  },
  {
   "cell_type": "code",
   "execution_count": 29,
   "metadata": {},
   "outputs": [
    {
     "name": "stdout",
     "output_type": "stream",
     "text": [
      "[34  1 37 17  1]\n",
      "**\n",
      "[[40  3 32]\n",
      " [31  7 29]\n",
      " [22 12 40]\n",
      " [20  2 23]\n",
      " [ 7  7 31]]\n",
      "**\n",
      "[60 16 78]\n"
     ]
    }
   ],
   "source": [
    "c, a, b = randInstanceGen(5,3,1,40)\n",
    "print(c)\n",
    "print(\"**\")\n",
    "print(a)\n",
    "print(\"**\")\n",
    "print(b)"
   ]
  },
  {
   "cell_type": "code",
   "execution_count": 20,
   "metadata": {},
   "outputs": [],
   "source": [
    "import gurobipy as gp\n",
    "from gurobipy import GRB"
   ]
  },
  {
   "cell_type": "code",
   "execution_count": 79,
   "metadata": {},
   "outputs": [
    {
     "name": "stdout",
     "output_type": "stream",
     "text": [
      "Gurobi Optimizer version 9.0.0 build v9.0.0rc2 (win64)\n",
      "Optimize a model with 1 rows, 5 columns and 5 nonzeros\n",
      "Model fingerprint: 0xd02e4222\n",
      "Variable types: 0 continuous, 5 integer (5 binary)\n",
      "Coefficient statistics:\n",
      "  Matrix range     [3e+00, 4e+01]\n",
      "  Objective range  [1e+00, 4e+01]\n",
      "  Bounds range     [1e+00, 1e+00]\n",
      "  RHS range        [6e+01, 6e+01]\n",
      "Found heuristic solution: objective 36.0000000\n",
      "Presolve removed 1 rows and 5 columns\n",
      "Presolve time: 0.00s\n",
      "Presolve: All rows and columns removed\n",
      "\n",
      "Explored 0 nodes (0 simplex iterations) in 0.01 seconds\n",
      "Thread count was 1 (of 8 available processors)\n",
      "\n",
      "Solution count 2: 39 \n",
      "\n",
      "Optimal solution found (tolerance 1.00e-04)\n",
      "Best objective 3.900000000000e+01, best bound 3.900000000000e+01, gap 0.0000%\n",
      "***********Values**********\n",
      "[[0. 1. 1. 0. 1.]]\n",
      "Obj:  39.0\n"
     ]
    }
   ],
   "source": [
    "n = 5\n",
    "J = 1\n",
    "M = 1\n",
    "U = 40\n",
    "\n",
    "c, a, b = randInstanceGen(n,M,J,U)\n",
    "\n",
    "m = gp.Model(\"Checkpoint Q4/5\")\n",
    "\n",
    "Items=list(np.arange(0,n))\n",
    "Dimensions= list(np.arange(0,M))\n",
    "\n",
    "# Decision Vars\n",
    "x = m.addVars(n,vtype=GRB.BINARY, name=\"ToTakeOrNotToTake\")\n",
    "\n",
    "m.setObjective(gp.quicksum(x[i]*c[i] for i in Items), GRB.MAXIMIZE)\n",
    "\n",
    "for j in Dimensions:\n",
    "    m.addConstr(gp.quicksum(x[i]*a[i,j] for i in Items) <= b[j], name=\"j\")\n",
    "\n",
    "m.optimize()\n",
    "\n",
    "print(\"***********Values**********\")\n",
    "\n",
    "Mat = np.zeros((1,5))\n",
    "i = 0\n",
    "j = 0\n",
    "for p in x:\n",
    "    if j == Mat.shape[1]:\n",
    "        j = 0\n",
    "        i += 1\n",
    "    Mat[i,j] = abs(x[p].x)\n",
    "    j+=1\n",
    "\n",
    "print(Mat)\n",
    "    \n",
    "print('Obj: ',m.objVal)"
   ]
  },
  {
   "cell_type": "code",
   "execution_count": 80,
   "metadata": {},
   "outputs": [
    {
     "name": "stdout",
     "output_type": "stream",
     "text": [
      "Gurobi Optimizer version 9.0.0 build v9.0.0rc2 (win64)\n",
      "Optimize a model with 1 rows, 5 columns and 5 nonzeros\n",
      "Model fingerprint: 0xb6d69afa\n",
      "Variable types: 0 continuous, 5 integer (5 binary)\n",
      "Coefficient statistics:\n",
      "  Matrix range     [3e+00, 4e+01]\n",
      "  Objective range  [5e-01, 2e+01]\n",
      "  Bounds range     [1e+00, 1e+00]\n",
      "  RHS range        [9e+01, 9e+01]\n",
      "\n",
      "Loaded MIP start from previous solve with objective 19.5\n",
      "\n",
      "Presolve removed 1 rows and 5 columns\n",
      "Presolve time: 0.00s\n",
      "Presolve: All rows and columns removed\n",
      "\n",
      "Explored 0 nodes (0 simplex iterations) in 0.02 seconds\n",
      "Thread count was 1 (of 8 available processors)\n",
      "\n",
      "Solution count 2: 36.5 \n",
      "\n",
      "Optimal solution found (tolerance 1.00e-04)\n",
      "Best objective 3.650000000000e+01, best bound 3.650000000000e+01, gap 0.0000%\n",
      "***********Values**********\n",
      "[[1. 1. 1. 0. 1.]]\n",
      "Obj:  36.5\n"
     ]
    }
   ],
   "source": [
    "for i in m.getConstrs():\n",
    "    i.RHS = i.RHS * 1.5\n",
    "for i in m.getVars():\n",
    "    i.Obj = i.Obj/2\n",
    "\n",
    "m.optimize()\n",
    "\n",
    "print(\"***********Values**********\")\n",
    "\n",
    "Mat = np.zeros((1,5))\n",
    "i = 0\n",
    "j = 0\n",
    "for p in x:\n",
    "    if j == Mat.shape[1]:\n",
    "        j = 0\n",
    "        i += 1\n",
    "    Mat[i,j] = abs(x[p].x)\n",
    "    j+=1\n",
    "\n",
    "print(Mat)\n",
    "    \n",
    "print('Obj: ',m.objVal)"
   ]
  },
  {
   "cell_type": "code",
   "execution_count": null,
   "metadata": {},
   "outputs": [],
   "source": []
  }
 ],
 "metadata": {
  "kernelspec": {
   "display_name": "Python 3",
   "language": "python",
   "name": "python3"
  },
  "language_info": {
   "codemirror_mode": {
    "name": "ipython",
    "version": 3
   },
   "file_extension": ".py",
   "mimetype": "text/x-python",
   "name": "python",
   "nbconvert_exporter": "python",
   "pygments_lexer": "ipython3",
   "version": "3.7.3"
  }
 },
 "nbformat": 4,
 "nbformat_minor": 2
}
