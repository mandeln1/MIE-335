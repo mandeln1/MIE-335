{
 "cells": [
  {
   "cell_type": "code",
   "execution_count": 27,
   "metadata": {},
   "outputs": [],
   "source": [
    "import numpy as np\n",
    "import math\n",
    "def randInstanceGen(n,m,J,U):\n",
    "    # Reset seed for safety\n",
    "    np.random.seed(0)\n",
    "    # Set seed\n",
    "    np.random.seed(61836)\n",
    "    \n",
    "    c = np.random.randint(1,U+1,(J,n))\n",
    "    a = np.random.randint(1,U+1,(n,m))\n",
    "    \n",
    "    b = np.max(a, axis=0)\n",
    "    \n",
    "    for i in range(0, m):\n",
    "        if math.ceil(np.sum(a[:,i])/2) > b[i]:\n",
    "            b[i] = math.ceil(np.sum(a[:,i])/2)\n",
    "    \n",
    "    return c, a, b"
   ]
  }
 ],
 "metadata": {
  "kernelspec": {
   "display_name": "Python 3",
   "language": "python",
   "name": "python3"
  },
  "language_info": {
   "codemirror_mode": {
    "name": "ipython",
    "version": 3
   },
   "file_extension": ".py",
   "mimetype": "text/x-python",
   "name": "python",
   "nbconvert_exporter": "python",
   "pygments_lexer": "ipython3",
   "version": "3.7.3"
  }
 },
 "nbformat": 4,
 "nbformat_minor": 2
}
